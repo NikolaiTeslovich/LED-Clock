{
 "cells": [
  {
   "cell_type": "code",
   "execution_count": 12,
   "id": "raised-directive",
   "metadata": {},
   "outputs": [],
   "source": [
    "import RPi.GPIO as GPIO\n",
    "import time\n",
    "\n",
    "#GPIO.cleanup()"
   ]
  },
  {
   "cell_type": "code",
   "execution_count": 13,
   "id": "italian-breach",
   "metadata": {},
   "outputs": [],
   "source": [
    "segs = [22, 4, 19, 6, 17, 13, 26]\n",
    "digs = [23, 24, 25, 12]\n",
    "\n",
    "num = [[True, True, True, False, True, True, True],\n",
    "       [False, False, True, False, False, True, False],\n",
    "       [True, False, True, True, True, False, True],\n",
    "       [True, False, True, True, False, True, True],\n",
    "       [False, True, True, True, False, True, False],\n",
    "       [True, True, False, True, False, True, True],\n",
    "       [True, True, False, True, True, True, True],\n",
    "       [True, False, True, False, False, True, False],\n",
    "       [True, True, True, True, True, True, True],\n",
    "       [True, True, True, True, False, True, True]]\n",
    "\n",
    "blink = 18"
   ]
  },
  {
   "cell_type": "code",
   "execution_count": 16,
   "id": "encouraging-shark",
   "metadata": {},
   "outputs": [],
   "source": [
    "# this is the current numbering layout\n",
    "GPIO.setmode(GPIO.BCM)\n",
    "\n",
    "# disable annoying warnings\n",
    "GPIO.setwarnings(False)\n",
    "\n",
    "# initialize the led digits and segments as outputs\n",
    "GPIO.setup(segs, GPIO.OUT)\n",
    "GPIO.setup(digs, GPIO.OUT)\n",
    "GPIO.setup(blink, GPIO.OUT)"
   ]
  },
  {
   "cell_type": "code",
   "execution_count": 17,
   "id": "worldwide-cocktail",
   "metadata": {},
   "outputs": [],
   "source": [
    "def gettime():\n",
    "    return time.strftime(\"%H%M%S\", time.localtime())"
   ]
  },
  {
   "cell_type": "code",
   "execution_count": 18,
   "id": "precious-colors",
   "metadata": {},
   "outputs": [],
   "source": [
    "# Turn everything the damn off!\n",
    "\n",
    "def damnoff():\n",
    "    GPIO.output(segs, False)\n",
    "    GPIO.output(digs, False)\n",
    "    GPIO.output(blink, False)"
   ]
  },
  {
   "cell_type": "code",
   "execution_count": null,
   "id": "canadian-probe",
   "metadata": {},
   "outputs": [],
   "source": [
    "s = 0.002\n",
    "\n",
    "while True:\n",
    "    timestr = gettime()\n",
    "    for i in range(0,100):\n",
    "        #time.sleep(s)\n",
    "        for d in range(0,4):\n",
    "            damnoff()\n",
    "            GPIO.output(digs[d], True)\n",
    "            GPIO.output(segs, num[int(timestr[d])])\n",
    "            if int(timestr[5]) % 2 == 0:\n",
    "                GPIO.output(blink, True)\n",
    "            elif int(timestr[5]) % 2 == 1:\n",
    "                GPIO.output(blink, False)\n",
    "            time.sleep(s)"
   ]
  },
  {
   "cell_type": "code",
   "execution_count": null,
   "id": "anonymous-execution",
   "metadata": {},
   "outputs": [],
   "source": []
  }
 ],
 "metadata": {
  "kernelspec": {
   "display_name": "Python 3",
   "language": "python",
   "name": "python3"
  },
  "language_info": {
   "codemirror_mode": {
    "name": "ipython",
    "version": 3
   },
   "file_extension": ".py",
   "mimetype": "text/x-python",
   "name": "python",
   "nbconvert_exporter": "python",
   "pygments_lexer": "ipython3",
   "version": "3.7.3"
  }
 },
 "nbformat": 4,
 "nbformat_minor": 5
}
