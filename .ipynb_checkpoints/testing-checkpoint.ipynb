{
 "cells": [
  {
   "cell_type": "code",
   "execution_count": 94,
   "id": "raised-directive",
   "metadata": {},
   "outputs": [],
   "source": [
    "import RPi.GPIO as GPIO\n",
    "import time\n",
    "\n",
    "GPIO.cleanup()"
   ]
  },
  {
   "cell_type": "code",
   "execution_count": 95,
   "id": "italian-breach",
   "metadata": {},
   "outputs": [],
   "source": [
    "segs = [22, 4, 19, 6, 17, 13, 26]\n",
    "digs = [23, 24, 25, 12]\n",
    "\n",
    "num = {0:[True, True, True, False, True, True, True],\n",
    "1:[False, False, True, False, False, True, False],\n",
    "2:[True, False, True, True, True, False, True],\n",
    "3:[True, False, True, True, False, True, True],\n",
    "4:[False, True, True, True, False, True, False],\n",
    "5:[True, True, False, True, False, True, True],\n",
    "6:[True, True, False, True, True, True, True],\n",
    "7:[True, False, True, False, False, True, False],\n",
    "8:[True, True, True, True, True, True, True],\n",
    "9:[True, True, True, True, False, True, True]}\n",
    "\n",
    "off = [False, False, False, False, False, False, False]\n",
    "\n",
    "blink = 18"
   ]
  },
  {
   "cell_type": "code",
   "execution_count": 96,
   "id": "encouraging-shark",
   "metadata": {},
   "outputs": [],
   "source": [
    "# this is the current numbering layout\n",
    "GPIO.setmode(GPIO.BCM)\n",
    "\n",
    "# disable annoying warnings\n",
    "GPIO.setwarnings(False)\n",
    "\n",
    "# initialize the led digits and segments as outputs\n",
    "GPIO.setup(segs, GPIO.OUT)\n",
    "GPIO.setup(digs, GPIO.OUT)\n",
    "GPIO.setup(blink, GPIO.OUT)\n"
   ]
  },
  {
   "cell_type": "code",
   "execution_count": 97,
   "id": "worldwide-cocktail",
   "metadata": {},
   "outputs": [],
   "source": [
    "def gettime():\n",
    "    return time.strftime(\"%H%M%S\", time.localtime())"
   ]
  },
  {
   "cell_type": "code",
   "execution_count": 99,
   "id": "precious-colors",
   "metadata": {},
   "outputs": [],
   "source": [
    "# Turn everything the damn off!\n",
    "\n",
    "def damnoff():\n",
    "    GPIO.output(segs, False)\n",
    "    GPIO.output(digs, False)\n",
    "    GPIO.output(blink, False)"
   ]
  },
  {
   "cell_type": "code",
   "execution_count": 144,
   "id": "canadian-probe",
   "metadata": {},
   "outputs": [
    {
     "ename": "KeyboardInterrupt",
     "evalue": "",
     "output_type": "error",
     "traceback": [
      "\u001b[0;31m---------------------------------------------------------------------------\u001b[0m",
      "\u001b[0;31mKeyboardInterrupt\u001b[0m                         Traceback (most recent call last)",
      "\u001b[0;32m<ipython-input-144-6a23bd4af03a>\u001b[0m in \u001b[0;36m<module>\u001b[0;34m\u001b[0m\n\u001b[1;32m     30\u001b[0m             \u001b[0;31m#damnoff()\u001b[0m\u001b[0;34m\u001b[0m\u001b[0;34m\u001b[0m\u001b[0;34m\u001b[0m\u001b[0m\n\u001b[1;32m     31\u001b[0m \u001b[0;34m\u001b[0m\u001b[0m\n\u001b[0;32m---> 32\u001b[0;31m             \u001b[0mtime\u001b[0m\u001b[0;34m.\u001b[0m\u001b[0msleep\u001b[0m\u001b[0;34m(\u001b[0m\u001b[0;36m10\u001b[0m\u001b[0;34m*\u001b[0m\u001b[0ms\u001b[0m\u001b[0;34m)\u001b[0m\u001b[0;34m\u001b[0m\u001b[0;34m\u001b[0m\u001b[0m\n\u001b[0m\u001b[1;32m     33\u001b[0m \u001b[0;34m\u001b[0m\u001b[0m\n\u001b[1;32m     34\u001b[0m         \u001b[0;31m#time.sleep(0.01)\u001b[0m\u001b[0;34m\u001b[0m\u001b[0;34m\u001b[0m\u001b[0;34m\u001b[0m\u001b[0m\n",
      "\u001b[0;31mKeyboardInterrupt\u001b[0m: "
     ]
    }
   ],
   "source": [
    "s = 0.001\n",
    "\n",
    "while True:\n",
    "    \n",
    "    timestr = gettime()\n",
    "    \n",
    "    i = 0\n",
    "    \n",
    "    while i < 100:\n",
    "        \n",
    "        d = 0\n",
    "\n",
    "        while d < 4:\n",
    "            \n",
    "            damnoff()\n",
    "            \n",
    "            time.sleep(s)\n",
    "\n",
    "            GPIO.output(digs[d], True)\n",
    "            GPIO.output(segs, num[int(timestr[d])])\n",
    "        \n",
    "            if int(timestr[5]) % 2 == 0:\n",
    "                GPIO.output(blink, True)\n",
    "\n",
    "            elif int(timestr[5]) % 2 == 1:\n",
    "                GPIO.output(blink, False)\n",
    "    \n",
    "            d += 1\n",
    "        \n",
    "            #damnoff()\n",
    "        \n",
    "            time.sleep(s)\n",
    "        \n",
    "        #time.sleep(0.01) \n",
    "            \n",
    "        i += 1"
   ]
  },
  {
   "cell_type": "code",
   "execution_count": null,
   "id": "equivalent-brooks",
   "metadata": {},
   "outputs": [],
   "source": []
  }
 ],
 "metadata": {
  "kernelspec": {
   "display_name": "Python 3",
   "language": "python",
   "name": "python3"
  },
  "language_info": {
   "codemirror_mode": {
    "name": "ipython",
    "version": 3
   },
   "file_extension": ".py",
   "mimetype": "text/x-python",
   "name": "python",
   "nbconvert_exporter": "python",
   "pygments_lexer": "ipython3",
   "version": "3.7.3"
  }
 },
 "nbformat": 4,
 "nbformat_minor": 5
}
